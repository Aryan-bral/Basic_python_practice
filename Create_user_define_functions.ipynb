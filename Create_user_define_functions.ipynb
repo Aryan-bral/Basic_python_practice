{
 "cells": [
  {
   "cell_type": "code",
   "execution_count": 1,
   "id": "c15ee8b2",
   "metadata": {},
   "outputs": [
    {
     "name": "stdout",
     "output_type": "stream",
     "text": [
      "3.5\n"
     ]
    }
   ],
   "source": [
    "def mean(a):\n",
    "    a=list(a)\n",
    "    mean1=sum(a)/len(a)\n",
    "    print(mean1)\n",
    "lists=[1,2,3,4,5,6]\n",
    "mean(lists)\n"
   ]
  },
  {
   "cell_type": "code",
   "execution_count": 2,
   "id": "ac576c71",
   "metadata": {},
   "outputs": [
    {
     "name": "stdout",
     "output_type": "stream",
     "text": [
      "<class 'builtin_function_or_method'>\n",
      "<class 'function'>\n"
     ]
    }
   ],
   "source": [
    "print(type(sum))\n",
    "print(type(mean))"
   ]
  },
  {
   "cell_type": "code",
   "execution_count": 1,
   "id": "4daba99a",
   "metadata": {},
   "outputs": [],
   "source": [
    "def area(l,b):\n",
    "    print(l*b)\n",
    "def volume(l,b,h):\n",
    "    print(l*b*h)"
   ]
  },
  {
   "cell_type": "code",
   "execution_count": 3,
   "id": "13629aac",
   "metadata": {},
   "outputs": [
    {
     "name": "stdout",
     "output_type": "stream",
     "text": [
      "13.0\n",
      "8.466666666666667\n"
     ]
    }
   ],
   "source": [
    "def mean(a):\n",
    "    if type(a)==dict:     #isinstance(a,dict)\n",
    "        man=sum(a.values())/len(a)\n",
    "    else:\n",
    "        man=sum(a)/len(a)\n",
    "    return man\n",
    "\n",
    "\n",
    "\n",
    "\n",
    "student_grade={\"marry\":9.1,\"sim\":8.8,\"john\":7.5}\n",
    "mymean=mean([1,2,3,4,5])\n",
    "print(mymean+10)\n",
    "s=mean(student_grade)\n",
    "print(s)\n"
   ]
  },
  {
   "cell_type": "code",
   "execution_count": 10,
   "id": "76f54f34",
   "metadata": {},
   "outputs": [
    {
     "name": "stdout",
     "output_type": "stream",
     "text": [
      "Enter the temprature(Celcius-degree):::12\n",
      "Cold\n"
     ]
    }
   ],
   "source": [
    "def foo(temp):\n",
    "    if temp>25:\n",
    "        print(\"Hot\")\n",
    "    elif temp>=15 and temp<=25:\n",
    "        print(\"Warm\")\n",
    "    else:\n",
    "        print(\"Cold\")\n",
    "a=int(input(\"Enter the temprature(Celcius-degree):::\"))\n",
    "foo(a)  \n"
   ]
  },
  {
   "cell_type": "code",
   "execution_count": 6,
   "id": "5db41050",
   "metadata": {},
   "outputs": [
    {
     "name": "stdout",
     "output_type": "stream",
     "text": [
      "Cold\n"
     ]
    }
   ],
   "source": [
    "foo(10)"
   ]
  },
  {
   "cell_type": "code",
   "execution_count": 7,
   "id": "85f55ba6",
   "metadata": {},
   "outputs": [
    {
     "name": "stdout",
     "output_type": "stream",
     "text": [
      "Warm\n"
     ]
    }
   ],
   "source": [
    "foo(20)"
   ]
  },
  {
   "cell_type": "code",
   "execution_count": 8,
   "id": "095a3fc6",
   "metadata": {},
   "outputs": [
    {
     "name": "stdout",
     "output_type": "stream",
     "text": [
      "Cold\n"
     ]
    }
   ],
   "source": [
    "foo(-10)"
   ]
  },
  {
   "cell_type": "code",
   "execution_count": 9,
   "id": "236f1561",
   "metadata": {},
   "outputs": [
    {
     "name": "stdout",
     "output_type": "stream",
     "text": [
      "Hot\n"
     ]
    }
   ],
   "source": [
    "foo(100)"
   ]
  },
  {
   "cell_type": "code",
   "execution_count": 11,
   "id": "dc90ee7e",
   "metadata": {},
   "outputs": [
    {
     "name": "stdout",
     "output_type": "stream",
     "text": [
      "Enter you name:goat\n",
      "Enter the suname:pro\n",
      "Hello! goat my sunameen pro\n",
      "Hello! goat pro\n"
     ]
    }
   ],
   "source": [
    "user_input=str(input(\"Enter you name:\"))\n",
    "user_input2=str(input(\"Enter the suname:\"))\n",
    "print(\"Hello! %s my sunameen %s\" %(user_input,user_input2))\n",
    "print(f\"Hello! {user_input} {user_input2}\")"
   ]
  },
  {
   "cell_type": "code",
   "execution_count": 13,
   "id": "0fcb4146",
   "metadata": {},
   "outputs": [
    {
     "name": "stdout",
     "output_type": "stream",
     "text": [
      "9\n",
      "9\n",
      "8\n",
      "9\n",
      "9\n",
      "8\n",
      "H\n",
      "E\n",
      "L\n",
      "L\n",
      "O\n",
      "a\n",
      "b\n",
      "c\n",
      "John Smith:  +37682929928\n",
      "Marry Simpons:  +423998200919\n",
      "037682929928\n",
      "0423998200919\n"
     ]
    }
   ],
   "source": [
    "monday_temperature=[9.1,8.8,7.6]\n",
    "\n",
    "print(round(monday_temperature[0]))\n",
    "print(round(monday_temperature[1]))\n",
    "print(round(monday_temperature[2]))\n",
    "\n",
    "for i in range(0,3):\n",
    "    print(round(monday_temperature[i]))\n",
    "\n",
    "for letter in 'hello':\n",
    "    print(letter.upper())\n",
    "\n",
    "a={\"a\":1,\"b\":2,\"c\":3}\n",
    "for i in a.keys():\n",
    "    print(i)\n",
    "\n",
    "phone_numbers = {\"John Smith\": \"+37682929928\", \"Marry Simpons\": \"+423998200919\"}\n",
    "for i in phone_numbers.items():\n",
    "    print(\"%s:  %s\" %(i[0],i[1]))\n",
    "\n",
    "phone_numbers = {\"John Smith\": \"+37682929928\", \"Marry Simpons\": \"+423998200919\"}\n",
    "for i in phone_numbers.values():\n",
    "    print(\"0%s\" %i[1:])\n",
    "\n"
   ]
  },
  {
   "cell_type": "code",
   "execution_count": 14,
   "id": "53ced918",
   "metadata": {},
   "outputs": [
    {
     "name": "stdout",
     "output_type": "stream",
     "text": [
      "3\n",
      "2\n",
      "1\n",
      "enter the user:p\n",
      "enter the user:py\n",
      "enter the user:pyp\n",
      "enter the user:pypy\n"
     ]
    }
   ],
   "source": [
    "a=3\n",
    "\n",
    "while a>0:\n",
    "    print(a)\n",
    "    a=a-1\n",
    "user=\"\"\n",
    "while user!=\"pypy\":\n",
    "    user=input(\"enter the user:\")\n"
   ]
  },
  {
   "cell_type": "code",
   "execution_count": 15,
   "id": "1539f3e4",
   "metadata": {},
   "outputs": [
    {
     "name": "stdout",
     "output_type": "stream",
     "text": [
      "Enter the user_name:p\n",
      "Enter the user_name:pdj\n",
      "Enter the user_name:opdij\n",
      "Enter the user_name:pjdcdjk\n",
      "Enter the user_name:pypy\n"
     ]
    }
   ],
   "source": [
    "while True:\n",
    "    user=input(\"Enter the user_name:\")\n",
    "    if user==\"pypy\":\n",
    "        break\n",
    "    else:\n",
    "        continue"
   ]
  },
  {
   "cell_type": "code",
   "execution_count": 6,
   "id": "def35f3e",
   "metadata": {},
   "outputs": [
    {
     "data": {
      "text/plain": [
       "'v?'"
      ]
     },
     "execution_count": 6,
     "metadata": {},
     "output_type": "execute_result"
    }
   ],
   "source": [
    "def sentence_maker(p):\n",
    "    if \"How\"or\"What\"or\"Who\"in p:\n",
    "        p=p+\"?\"\n",
    "    else:\n",
    "        p=p+\".\"\n",
    "    return p\n",
    "sentence_maker(\"v\")\n",
    "\n"
   ]
  },
  {
   "cell_type": "code",
   "execution_count": 8,
   "id": "a8ba0643",
   "metadata": {},
   "outputs": [],
   "source": [
    "def foo(a):\n",
    "    return([i if type(i)==int else 0 for i in a if type(i)==int])"
   ]
  },
  {
   "cell_type": "code",
   "execution_count": 9,
   "id": "83200dfd",
   "metadata": {},
   "outputs": [
    {
     "data": {
      "text/plain": [
       "[1, 2, 3]"
      ]
     },
     "execution_count": 9,
     "metadata": {},
     "output_type": "execute_result"
    }
   ],
   "source": [
    "foo([\"assa\",1,2,3,\"sdda\"])\n"
   ]
  },
  {
   "cell_type": "code",
   "execution_count": 1,
   "id": "03548e75",
   "metadata": {},
   "outputs": [
    {
     "name": "stdout",
     "output_type": "stream",
     "text": [
      "Say somethig: hi\n",
      "Say somethig: how are you \n",
      "Say somethig: a\n",
      "Say somethig: \\end\n",
      "Hi? How are you ? A?\n"
     ]
    },
    {
     "data": {
      "text/plain": [
       "'How are you?'"
      ]
     },
     "execution_count": 1,
     "metadata": {},
     "output_type": "execute_result"
    }
   ],
   "source": [
    "c=[]\n",
    "def sentence_maker(p):\n",
    "    if \"How\" or \"What\" or \"Who\"in p:\n",
    "        p=p+\"?\"\n",
    "    else:\n",
    "        p=p+\".\"\n",
    "    return p\n",
    "\n",
    "while True:\n",
    "    a=str(input(\"Say somethig: \"))\n",
    "    a=a.capitalize()\n",
    "    if a==\"\\end\":\n",
    "         break\n",
    "    else:\n",
    "        v= sentence_maker(a)\n",
    "        c.append(v)\n",
    "print(\" \".join(c))\n",
    "\n",
    "\n",
    "sentence_maker(\"How are you\")"
   ]
  },
  {
   "cell_type": "code",
   "execution_count": null,
   "id": "9114b6a0",
   "metadata": {},
   "outputs": [],
   "source": []
  }
 ],
 "metadata": {
  "kernelspec": {
   "display_name": "Python 3",
   "language": "python",
   "name": "python3"
  },
  "language_info": {
   "codemirror_mode": {
    "name": "ipython",
    "version": 3
   },
   "file_extension": ".py",
   "mimetype": "text/x-python",
   "name": "python",
   "nbconvert_exporter": "python",
   "pygments_lexer": "ipython3",
   "version": "3.8.8"
  }
 },
 "nbformat": 4,
 "nbformat_minor": 5
}
